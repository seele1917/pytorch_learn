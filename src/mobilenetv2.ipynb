{
 "cells": [
  {
   "cell_type": "code",
   "execution_count": 27,
   "metadata": {},
   "outputs": [],
   "source": [
    "import glob\n",
    "import os\n",
    "import os.path as osp\n",
    "import random\n",
    "import numpy as np\n",
    "from PIL import Image\n",
    "from tqdm import tqdm\n",
    "import matplotlib.pyplot as plt\n",
    "%matplotlib inline\n",
    "\n",
    "import torch\n",
    "import torch.nn as nn\n",
    "import torch.optim as optim\n",
    "import torch.utils.data as data\n",
    "import torchvision\n",
    "from torchvision import models, transforms"
   ]
  },
  {
   "cell_type": "markdown",
   "metadata": {},
   "source": [
    "# ImageNet用のTransform\n",
    "---"
   ]
  },
  {
   "cell_type": "code",
   "execution_count": 28,
   "metadata": {},
   "outputs": [],
   "source": [
    "class ImageTransform():\n",
    "    \n",
    "    def __init__(self, resize, mean, std):\n",
    "        self.data_transform = {\n",
    "            'train': transforms.Compose([\n",
    "                transforms.RandomResizedCrop(resize, scale=(0.5, 1.0)),\n",
    "                transforms.RandomHorizontalFlip(),\n",
    "                transforms.ToTensor(),\n",
    "                transforms.Normalize(mean, std)\n",
    "            ]),\n",
    "            'val': transforms.Compose([\n",
    "                transforms.Resize(resize),\n",
    "                transforms.CenterCrop(resize),\n",
    "                transforms.ToTensor(),\n",
    "                transforms.Normalize(mean, std)\n",
    "            ])\n",
    "        }\n",
    "        \n",
    "    def __call__(self, img, phase='train'):\n",
    "        return self.data_transform[phase](img)"
   ]
  },
  {
   "cell_type": "markdown",
   "metadata": {},
   "source": [
    "## file_pathを格納する関数"
   ]
  },
  {
   "cell_type": "code",
   "execution_count": 29,
   "metadata": {},
   "outputs": [],
   "source": [
    "def make_datapath_list(rootpath='./data/', phase='train'):\n",
    "    \n",
    "    target_path = osp.join(rootpath, phase, '*/*')\n",
    "    print(target_path)\n",
    "    \n",
    "    path_list = []\n",
    "    \n",
    "    for path in glob.glob(target_path):\n",
    "        path_list.append(path)\n",
    "    \n",
    "    return path_list"
   ]
  },
  {
   "cell_type": "markdown",
   "metadata": {},
   "source": [
    "# DataSetを作成\n",
    "---"
   ]
  },
  {
   "cell_type": "code",
   "execution_count": 30,
   "metadata": {},
   "outputs": [],
   "source": [
    "class KeyakiDatasest(data.Dataset):\n",
    "    \n",
    "    def __init__(self, file_list, label_list, transform=None, phase='train'):\n",
    "        self.file_list = file_list\n",
    "        self.label_list = label_list\n",
    "        self.transform = transform\n",
    "        self.phase = phase\n",
    "        \n",
    "    def __len__(self):\n",
    "        return len(self.file_list)\n",
    "    \n",
    "    def __getitem__(self, index):\n",
    "        \n",
    "        img_path = self.file_list[index]\n",
    "        img = Image.open(img_path).convert('RGB')\n",
    "        \n",
    "        img_transformed = self.transform(img, self.phase)\n",
    "        \n",
    "        label = img_path.split('/')[-2]\n",
    "        label = label_list.index(label)\n",
    "        \n",
    "        return img_transformed, label"
   ]
  },
  {
   "cell_type": "markdown",
   "metadata": {},
   "source": [
    "# Main学習\n",
    "---"
   ]
  },
  {
   "cell_type": "markdown",
   "metadata": {},
   "source": [
    "## DataLoaderの作成"
   ]
  },
  {
   "cell_type": "code",
   "execution_count": 34,
   "metadata": {},
   "outputs": [
    {
     "name": "stdout",
     "output_type": "stream",
     "text": [
      "./keyaki_member_data_edited/train/*/*\n",
      "./keyaki_member_data_edited/valid/*/*\n"
     ]
    }
   ],
   "source": [
    "# dataが存在するフォルダ(中身はtrain, valフォルダに分かれている前提）\n",
    "rootpath = './keyaki_member_data_edited/'\n",
    "\n",
    "# 学習するラベルのリスト．trainフォルダの中にあるフォルダ名から取得\n",
    "label_list = os.listdir(rootpath + 'train')\n",
    "\n",
    "# train, valのpathリスト\n",
    "train_list = make_datapath_list(rootpath, 'train')\n",
    "val_list = make_datapath_list(rootpath, 'valid')\n",
    "\n",
    "# ImageNetの画像は以下のように前処理されている\n",
    "size = 224\n",
    "mean = (0.485, 0.456, 0.406)\n",
    "std = (0.229, 0.224, 0.225)\n",
    "\n",
    "# トランスフォームインスタンスの生成\n",
    "transform = ImageTransform(size, mean, std)\n",
    "\n",
    "# train, valのdatasetを作成\n",
    "train_dataset = KeyakiDatasest(train_list, label_list, transform=transform, phase='train')\n",
    "val_dataset = KeyakiDatasest(val_list, label_list, transform=transform, phase='val')\n",
    "\n",
    "# train, valのdataloaderを作成\n",
    "train_dataloader = torch.utils.data.DataLoader(train_dataset, batch_size=batch_size, shuffle=True)\n",
    "val_dataloader = torch.utils.data.DataLoader(val_dataset, batch_size=batch_size, shuffle=True)\n",
    "\n",
    "# train, valのdataloaderを辞書にまとめる\n",
    "dataloaders_dict = {'train': train_dataloader, 'val': val_dataloader}"
   ]
  },
  {
   "cell_type": "markdown",
   "metadata": {},
   "source": [
    "## モデルの定義"
   ]
  },
  {
   "cell_type": "code",
   "execution_count": 35,
   "metadata": {},
   "outputs": [
    {
     "name": "stdout",
     "output_type": "stream",
     "text": [
      "features.0.0.weight\n",
      "features.0.1.weight\n",
      "features.0.1.bias\n",
      "features.1.conv.0.0.weight\n",
      "features.1.conv.0.1.weight\n",
      "features.1.conv.0.1.bias\n",
      "features.1.conv.1.weight\n",
      "features.1.conv.2.weight\n",
      "features.1.conv.2.bias\n",
      "features.2.conv.0.0.weight\n",
      "features.2.conv.0.1.weight\n",
      "features.2.conv.0.1.bias\n",
      "features.2.conv.1.0.weight\n",
      "features.2.conv.1.1.weight\n",
      "features.2.conv.1.1.bias\n",
      "features.2.conv.2.weight\n",
      "features.2.conv.3.weight\n",
      "features.2.conv.3.bias\n",
      "features.3.conv.0.0.weight\n",
      "features.3.conv.0.1.weight\n",
      "features.3.conv.0.1.bias\n",
      "features.3.conv.1.0.weight\n",
      "features.3.conv.1.1.weight\n",
      "features.3.conv.1.1.bias\n",
      "features.3.conv.2.weight\n",
      "features.3.conv.3.weight\n",
      "features.3.conv.3.bias\n",
      "features.4.conv.0.0.weight\n",
      "features.4.conv.0.1.weight\n",
      "features.4.conv.0.1.bias\n",
      "features.4.conv.1.0.weight\n",
      "features.4.conv.1.1.weight\n",
      "features.4.conv.1.1.bias\n",
      "features.4.conv.2.weight\n",
      "features.4.conv.3.weight\n",
      "features.4.conv.3.bias\n",
      "features.5.conv.0.0.weight\n",
      "features.5.conv.0.1.weight\n",
      "features.5.conv.0.1.bias\n",
      "features.5.conv.1.0.weight\n",
      "features.5.conv.1.1.weight\n",
      "features.5.conv.1.1.bias\n",
      "features.5.conv.2.weight\n",
      "features.5.conv.3.weight\n",
      "features.5.conv.3.bias\n",
      "features.6.conv.0.0.weight\n",
      "features.6.conv.0.1.weight\n",
      "features.6.conv.0.1.bias\n",
      "features.6.conv.1.0.weight\n",
      "features.6.conv.1.1.weight\n",
      "features.6.conv.1.1.bias\n",
      "features.6.conv.2.weight\n",
      "features.6.conv.3.weight\n",
      "features.6.conv.3.bias\n",
      "features.7.conv.0.0.weight\n",
      "features.7.conv.0.1.weight\n",
      "features.7.conv.0.1.bias\n",
      "features.7.conv.1.0.weight\n",
      "features.7.conv.1.1.weight\n",
      "features.7.conv.1.1.bias\n",
      "features.7.conv.2.weight\n",
      "features.7.conv.3.weight\n",
      "features.7.conv.3.bias\n",
      "features.8.conv.0.0.weight\n",
      "features.8.conv.0.1.weight\n",
      "features.8.conv.0.1.bias\n",
      "features.8.conv.1.0.weight\n",
      "features.8.conv.1.1.weight\n",
      "features.8.conv.1.1.bias\n",
      "features.8.conv.2.weight\n",
      "features.8.conv.3.weight\n",
      "features.8.conv.3.bias\n",
      "features.9.conv.0.0.weight\n",
      "features.9.conv.0.1.weight\n",
      "features.9.conv.0.1.bias\n",
      "features.9.conv.1.0.weight\n",
      "features.9.conv.1.1.weight\n",
      "features.9.conv.1.1.bias\n",
      "features.9.conv.2.weight\n",
      "features.9.conv.3.weight\n",
      "features.9.conv.3.bias\n",
      "features.10.conv.0.0.weight\n",
      "features.10.conv.0.1.weight\n",
      "features.10.conv.0.1.bias\n",
      "features.10.conv.1.0.weight\n",
      "features.10.conv.1.1.weight\n",
      "features.10.conv.1.1.bias\n",
      "features.10.conv.2.weight\n",
      "features.10.conv.3.weight\n",
      "features.10.conv.3.bias\n",
      "features.11.conv.0.0.weight\n",
      "features.11.conv.0.1.weight\n",
      "features.11.conv.0.1.bias\n",
      "features.11.conv.1.0.weight\n",
      "features.11.conv.1.1.weight\n",
      "features.11.conv.1.1.bias\n",
      "features.11.conv.2.weight\n",
      "features.11.conv.3.weight\n",
      "features.11.conv.3.bias\n",
      "features.12.conv.0.0.weight\n",
      "features.12.conv.0.1.weight\n",
      "features.12.conv.0.1.bias\n",
      "features.12.conv.1.0.weight\n",
      "features.12.conv.1.1.weight\n",
      "features.12.conv.1.1.bias\n",
      "features.12.conv.2.weight\n",
      "features.12.conv.3.weight\n",
      "features.12.conv.3.bias\n",
      "features.13.conv.0.0.weight\n",
      "features.13.conv.0.1.weight\n",
      "features.13.conv.0.1.bias\n",
      "features.13.conv.1.0.weight\n",
      "features.13.conv.1.1.weight\n",
      "features.13.conv.1.1.bias\n",
      "features.13.conv.2.weight\n",
      "features.13.conv.3.weight\n",
      "features.13.conv.3.bias\n",
      "features.14.conv.0.0.weight\n",
      "features.14.conv.0.1.weight\n",
      "features.14.conv.0.1.bias\n",
      "features.14.conv.1.0.weight\n",
      "features.14.conv.1.1.weight\n",
      "features.14.conv.1.1.bias\n",
      "features.14.conv.2.weight\n",
      "features.14.conv.3.weight\n",
      "features.14.conv.3.bias\n",
      "features.15.conv.0.0.weight\n",
      "features.15.conv.0.1.weight\n",
      "features.15.conv.0.1.bias\n",
      "features.15.conv.1.0.weight\n",
      "features.15.conv.1.1.weight\n",
      "features.15.conv.1.1.bias\n",
      "features.15.conv.2.weight\n",
      "features.15.conv.3.weight\n",
      "features.15.conv.3.bias\n",
      "features.16.conv.0.0.weight\n",
      "features.16.conv.0.1.weight\n",
      "features.16.conv.0.1.bias\n",
      "features.16.conv.1.0.weight\n",
      "features.16.conv.1.1.weight\n",
      "features.16.conv.1.1.bias\n",
      "features.16.conv.2.weight\n",
      "features.16.conv.3.weight\n",
      "features.16.conv.3.bias\n",
      "features.17.conv.0.0.weight\n",
      "features.17.conv.0.1.weight\n",
      "features.17.conv.0.1.bias\n",
      "features.17.conv.1.0.weight\n",
      "features.17.conv.1.1.weight\n",
      "features.17.conv.1.1.bias\n",
      "features.17.conv.2.weight\n",
      "features.17.conv.3.weight\n",
      "features.17.conv.3.bias\n",
      "features.18.0.weight\n",
      "features.18.1.weight\n",
      "features.18.1.bias\n",
      "classifier.1.weight\n",
      "classifier.1.bias\n",
      "ネットワーク設定完了：学習済みの重みをロードし，訓練モードに設定しました\n"
     ]
    }
   ],
   "source": [
    "# 学習済みの重みを使用するかどうか\n",
    "use_pretrained = True\n",
    "# mobilenetV2を使用\n",
    "net = models.mobilenet_v2(pretrained=use_pretrained)\n",
    "\n",
    "# 分類したいクラス数\n",
    "out_features = 5\n",
    "# 最終層だけ取り替える\n",
    "net.classifier[1] = nn.Linear(in_features=1280, out_features=out_features)\n",
    "\n",
    "# 学習モードへ移行\n",
    "net.train()\n",
    "for name, param in net.named_parameters():\n",
    "    print(name)\n",
    "print('ネットワーク設定完了：学習済みの重みをロードし，訓練モードに設定しました')"
   ]
  },
  {
   "cell_type": "markdown",
   "metadata": {},
   "source": [
    "## 損失関数の定義"
   ]
  },
  {
   "cell_type": "code",
   "execution_count": 36,
   "metadata": {},
   "outputs": [],
   "source": [
    "criterion = nn.CrossEntropyLoss()"
   ]
  },
  {
   "cell_type": "markdown",
   "metadata": {},
   "source": [
    "## 最適化手法の決定"
   ]
  },
  {
   "cell_type": "code",
   "execution_count": 38,
   "metadata": {},
   "outputs": [
    {
     "name": "stdout",
     "output_type": "stream",
     "text": [
      "勾配計算なし．学習しない: features.0.0.weight\n",
      "勾配計算なし．学習しない: features.0.1.weight\n",
      "勾配計算なし．学習しない: features.0.1.bias\n",
      "勾配計算なし．学習しない: features.1.conv.0.0.weight\n",
      "勾配計算なし．学習しない: features.1.conv.0.1.weight\n",
      "勾配計算なし．学習しない: features.1.conv.0.1.bias\n",
      "勾配計算なし．学習しない: features.1.conv.1.weight\n",
      "勾配計算なし．学習しない: features.1.conv.2.weight\n",
      "勾配計算なし．学習しない: features.1.conv.2.bias\n",
      "勾配計算なし．学習しない: features.2.conv.0.0.weight\n",
      "勾配計算なし．学習しない: features.2.conv.0.1.weight\n",
      "勾配計算なし．学習しない: features.2.conv.0.1.bias\n",
      "勾配計算なし．学習しない: features.2.conv.1.0.weight\n",
      "勾配計算なし．学習しない: features.2.conv.1.1.weight\n",
      "勾配計算なし．学習しない: features.2.conv.1.1.bias\n",
      "勾配計算なし．学習しない: features.2.conv.2.weight\n",
      "勾配計算なし．学習しない: features.2.conv.3.weight\n",
      "勾配計算なし．学習しない: features.2.conv.3.bias\n",
      "勾配計算なし．学習しない: features.3.conv.0.0.weight\n",
      "勾配計算なし．学習しない: features.3.conv.0.1.weight\n",
      "勾配計算なし．学習しない: features.3.conv.0.1.bias\n",
      "勾配計算なし．学習しない: features.3.conv.1.0.weight\n",
      "勾配計算なし．学習しない: features.3.conv.1.1.weight\n",
      "勾配計算なし．学習しない: features.3.conv.1.1.bias\n",
      "勾配計算なし．学習しない: features.3.conv.2.weight\n",
      "勾配計算なし．学習しない: features.3.conv.3.weight\n",
      "勾配計算なし．学習しない: features.3.conv.3.bias\n",
      "勾配計算なし．学習しない: features.4.conv.0.0.weight\n",
      "勾配計算なし．学習しない: features.4.conv.0.1.weight\n",
      "勾配計算なし．学習しない: features.4.conv.0.1.bias\n",
      "勾配計算なし．学習しない: features.4.conv.1.0.weight\n",
      "勾配計算なし．学習しない: features.4.conv.1.1.weight\n",
      "勾配計算なし．学習しない: features.4.conv.1.1.bias\n",
      "勾配計算なし．学習しない: features.4.conv.2.weight\n",
      "勾配計算なし．学習しない: features.4.conv.3.weight\n",
      "勾配計算なし．学習しない: features.4.conv.3.bias\n",
      "勾配計算なし．学習しない: features.5.conv.0.0.weight\n",
      "勾配計算なし．学習しない: features.5.conv.0.1.weight\n",
      "勾配計算なし．学習しない: features.5.conv.0.1.bias\n",
      "勾配計算なし．学習しない: features.5.conv.1.0.weight\n",
      "勾配計算なし．学習しない: features.5.conv.1.1.weight\n",
      "勾配計算なし．学習しない: features.5.conv.1.1.bias\n",
      "勾配計算なし．学習しない: features.5.conv.2.weight\n",
      "勾配計算なし．学習しない: features.5.conv.3.weight\n",
      "勾配計算なし．学習しない: features.5.conv.3.bias\n",
      "勾配計算なし．学習しない: features.6.conv.0.0.weight\n",
      "勾配計算なし．学習しない: features.6.conv.0.1.weight\n",
      "勾配計算なし．学習しない: features.6.conv.0.1.bias\n",
      "勾配計算なし．学習しない: features.6.conv.1.0.weight\n",
      "勾配計算なし．学習しない: features.6.conv.1.1.weight\n",
      "勾配計算なし．学習しない: features.6.conv.1.1.bias\n",
      "勾配計算なし．学習しない: features.6.conv.2.weight\n",
      "勾配計算なし．学習しない: features.6.conv.3.weight\n",
      "勾配計算なし．学習しない: features.6.conv.3.bias\n",
      "勾配計算なし．学習しない: features.7.conv.0.0.weight\n",
      "勾配計算なし．学習しない: features.7.conv.0.1.weight\n",
      "勾配計算なし．学習しない: features.7.conv.0.1.bias\n",
      "勾配計算なし．学習しない: features.7.conv.1.0.weight\n",
      "勾配計算なし．学習しない: features.7.conv.1.1.weight\n",
      "勾配計算なし．学習しない: features.7.conv.1.1.bias\n",
      "勾配計算なし．学習しない: features.7.conv.2.weight\n",
      "勾配計算なし．学習しない: features.7.conv.3.weight\n",
      "勾配計算なし．学習しない: features.7.conv.3.bias\n",
      "勾配計算なし．学習しない: features.8.conv.0.0.weight\n",
      "勾配計算なし．学習しない: features.8.conv.0.1.weight\n",
      "勾配計算なし．学習しない: features.8.conv.0.1.bias\n",
      "勾配計算なし．学習しない: features.8.conv.1.0.weight\n",
      "勾配計算なし．学習しない: features.8.conv.1.1.weight\n",
      "勾配計算なし．学習しない: features.8.conv.1.1.bias\n",
      "勾配計算なし．学習しない: features.8.conv.2.weight\n",
      "勾配計算なし．学習しない: features.8.conv.3.weight\n",
      "勾配計算なし．学習しない: features.8.conv.3.bias\n",
      "勾配計算なし．学習しない: features.9.conv.0.0.weight\n",
      "勾配計算なし．学習しない: features.9.conv.0.1.weight\n",
      "勾配計算なし．学習しない: features.9.conv.0.1.bias\n",
      "勾配計算なし．学習しない: features.9.conv.1.0.weight\n",
      "勾配計算なし．学習しない: features.9.conv.1.1.weight\n",
      "勾配計算なし．学習しない: features.9.conv.1.1.bias\n",
      "勾配計算なし．学習しない: features.9.conv.2.weight\n",
      "勾配計算なし．学習しない: features.9.conv.3.weight\n",
      "勾配計算なし．学習しない: features.9.conv.3.bias\n",
      "勾配計算なし．学習しない: features.10.conv.0.0.weight\n",
      "勾配計算なし．学習しない: features.10.conv.0.1.weight\n",
      "勾配計算なし．学習しない: features.10.conv.0.1.bias\n",
      "勾配計算なし．学習しない: features.10.conv.1.0.weight\n",
      "勾配計算なし．学習しない: features.10.conv.1.1.weight\n",
      "勾配計算なし．学習しない: features.10.conv.1.1.bias\n",
      "勾配計算なし．学習しない: features.10.conv.2.weight\n",
      "勾配計算なし．学習しない: features.10.conv.3.weight\n",
      "勾配計算なし．学習しない: features.10.conv.3.bias\n",
      "勾配計算なし．学習しない: features.11.conv.0.0.weight\n",
      "勾配計算なし．学習しない: features.11.conv.0.1.weight\n",
      "勾配計算なし．学習しない: features.11.conv.0.1.bias\n",
      "勾配計算なし．学習しない: features.11.conv.1.0.weight\n",
      "勾配計算なし．学習しない: features.11.conv.1.1.weight\n",
      "勾配計算なし．学習しない: features.11.conv.1.1.bias\n",
      "勾配計算なし．学習しない: features.11.conv.2.weight\n",
      "勾配計算なし．学習しない: features.11.conv.3.weight\n",
      "勾配計算なし．学習しない: features.11.conv.3.bias\n",
      "勾配計算なし．学習しない: features.12.conv.0.0.weight\n",
      "勾配計算なし．学習しない: features.12.conv.0.1.weight\n",
      "勾配計算なし．学習しない: features.12.conv.0.1.bias\n",
      "勾配計算なし．学習しない: features.12.conv.1.0.weight\n",
      "勾配計算なし．学習しない: features.12.conv.1.1.weight\n",
      "勾配計算なし．学習しない: features.12.conv.1.1.bias\n",
      "勾配計算なし．学習しない: features.12.conv.2.weight\n",
      "勾配計算なし．学習しない: features.12.conv.3.weight\n",
      "勾配計算なし．学習しない: features.12.conv.3.bias\n",
      "勾配計算なし．学習しない: features.13.conv.0.0.weight\n",
      "勾配計算なし．学習しない: features.13.conv.0.1.weight\n",
      "勾配計算なし．学習しない: features.13.conv.0.1.bias\n",
      "勾配計算なし．学習しない: features.13.conv.1.0.weight\n",
      "勾配計算なし．学習しない: features.13.conv.1.1.weight\n",
      "勾配計算なし．学習しない: features.13.conv.1.1.bias\n",
      "勾配計算なし．学習しない: features.13.conv.2.weight\n",
      "勾配計算なし．学習しない: features.13.conv.3.weight\n",
      "勾配計算なし．学習しない: features.13.conv.3.bias\n",
      "勾配計算なし．学習しない: features.14.conv.0.0.weight\n",
      "勾配計算なし．学習しない: features.14.conv.0.1.weight\n",
      "勾配計算なし．学習しない: features.14.conv.0.1.bias\n",
      "勾配計算なし．学習しない: features.14.conv.1.0.weight\n",
      "勾配計算なし．学習しない: features.14.conv.1.1.weight\n",
      "勾配計算なし．学習しない: features.14.conv.1.1.bias\n",
      "勾配計算なし．学習しない: features.14.conv.2.weight\n",
      "勾配計算なし．学習しない: features.14.conv.3.weight\n",
      "勾配計算なし．学習しない: features.14.conv.3.bias\n",
      "勾配計算なし．学習しない: features.15.conv.0.0.weight\n",
      "勾配計算なし．学習しない: features.15.conv.0.1.weight\n",
      "勾配計算なし．学習しない: features.15.conv.0.1.bias\n",
      "勾配計算なし．学習しない: features.15.conv.1.0.weight\n",
      "勾配計算なし．学習しない: features.15.conv.1.1.weight\n",
      "勾配計算なし．学習しない: features.15.conv.1.1.bias\n",
      "勾配計算なし．学習しない: features.15.conv.2.weight\n",
      "勾配計算なし．学習しない: features.15.conv.3.weight\n",
      "勾配計算なし．学習しない: features.15.conv.3.bias\n",
      "勾配計算なし．学習しない: features.16.conv.0.0.weight\n",
      "勾配計算なし．学習しない: features.16.conv.0.1.weight\n",
      "勾配計算なし．学習しない: features.16.conv.0.1.bias\n",
      "勾配計算なし．学習しない: features.16.conv.1.0.weight\n",
      "勾配計算なし．学習しない: features.16.conv.1.1.weight\n",
      "勾配計算なし．学習しない: features.16.conv.1.1.bias\n",
      "勾配計算なし．学習しない: features.16.conv.2.weight\n",
      "勾配計算なし．学習しない: features.16.conv.3.weight\n",
      "勾配計算なし．学習しない: features.16.conv.3.bias\n",
      "勾配計算なし．学習しない: features.17.conv.0.0.weight\n",
      "勾配計算なし．学習しない: features.17.conv.0.1.weight\n",
      "勾配計算なし．学習しない: features.17.conv.0.1.bias\n",
      "勾配計算なし．学習しない: features.17.conv.1.0.weight\n",
      "勾配計算なし．学習しない: features.17.conv.1.1.weight\n",
      "勾配計算なし．学習しない: features.17.conv.1.1.bias\n",
      "勾配計算なし．学習しない: features.17.conv.2.weight\n",
      "勾配計算なし．学習しない: features.17.conv.3.weight\n",
      "勾配計算なし．学習しない: features.17.conv.3.bias\n",
      "勾配計算なし．学習しない: features.18.0.weight\n",
      "勾配計算なし．学習しない: features.18.1.weight\n",
      "勾配計算なし．学習しない: features.18.1.bias\n",
      "params_to_updateに格納: classifier.1.weight\n",
      "params_to_updateに格納: classifier.1.bias\n"
     ]
    }
   ],
   "source": [
    "params_to_update = []\n",
    "\n",
    "def get_param_name(n):\n",
    "    '''\n",
    "    classifierの重み，バイアス名を取得する関数\n",
    "    '''\n",
    "    return ['classifier.%d.weight' %n, 'classifier.%d.bias' %n]\n",
    "\n",
    "update_params_name = get_param_name(1)\n",
    "\n",
    "for name, param in net.named_parameters():\n",
    "    if name in update_params_name:\n",
    "        param.requires_grad = True\n",
    "        params_to_update.append(param)\n",
    "        print('params_to_updateに格納:', name)\n",
    "    else:\n",
    "        param.requires_grad = False\n",
    "        print('勾配計算なし．学習しない:', name)"
   ]
  },
  {
   "cell_type": "code",
   "execution_count": 42,
   "metadata": {},
   "outputs": [],
   "source": [
    "optimizer = optim.SGD(params=params_to_update, lr=1e-3, momentum=0.9)"
   ]
  },
  {
   "cell_type": "markdown",
   "metadata": {},
   "source": [
    "## 学習，検証を実施"
   ]
  },
  {
   "cell_type": "code",
   "execution_count": 47,
   "metadata": {},
   "outputs": [],
   "source": [
    "def train_model(net, dataloaders_dict, criterion, optimizer, num_epochs):\n",
    "    device = torch.device('cuda:0' if torch.cuda.is_available() else 'cpu')\n",
    "    print('使用デバイス:', device)\n",
    "    \n",
    "    net.to(device)\n",
    "    \n",
    "    torch.backends.cudnn.benchmark = True\n",
    "    \n",
    "    train_losses = []\n",
    "    val_losses = []\n",
    "    train_accuracies = []\n",
    "    val_accuracies = []\n",
    "    \n",
    "    for epoch in range(num_epochs):\n",
    "        print('Epoch %d/%d' %(epoch+1, num_epochs))\n",
    "        print('---------')\n",
    "        \n",
    "        for phase in ['train', 'val']:\n",
    "            if phase == 'train':\n",
    "                net.train()\n",
    "            else:\n",
    "                net.eval()\n",
    "            \n",
    "            epoch_loss = 0.0\n",
    "            epoch_corrects = 0\n",
    "            \n",
    "            if epoch == 0 and phase == 'train':\n",
    "                continue\n",
    "            \n",
    "            for inputs, labels in tqdm(dataloaders_dict[phase]):\n",
    "                \n",
    "                inputs = inputs.to(device)\n",
    "                labels = labels.to(device)\n",
    "                \n",
    "                optimizer.zero_grad()\n",
    "                \n",
    "                with torch.set_grad_enabled(phase == 'train'):\n",
    "                    outputs = net(inputs)\n",
    "                    loss = criterion(outputs, labels)\n",
    "                    _, preds = torch.max(outputs, 1)\n",
    "                    \n",
    "                    if phase == 'train':\n",
    "                        loss.backward()\n",
    "                        optimizer.step()\n",
    "                        \n",
    "                    epoch_loss += loss.item() * inputs.size(0)\n",
    "                    epoch_corrects += torch.sum(preds == labels.data)\n",
    "                    \n",
    "            epoch_loss = epoch_loss / len(dataloaders_dict[phase].dataset)\n",
    "            epoch_acc = epoch_corrects.double() / len(dataloaders_dict[phase].dataset)\n",
    "            \n",
    "            if epoch != 0:\n",
    "                if phase == 'train':\n",
    "                    train_losses.append(float(epoch_loss))\n",
    "                    train_accuracies.append(float(epoch_acc))\n",
    "                elif phase == 'val':\n",
    "                    val_losses.append(float(epoch_loss))\n",
    "                    val_accuracies.append(float(epoch_acc))\n",
    "\n",
    "            print('%s Loss: %.4f Acc: %.4f' %(phase, epoch_loss, epoch_acc))\n",
    "    return train_losses, val_losses, train_accuracies, val_accuracies"
   ]
  },
  {
   "cell_type": "code",
   "execution_count": 50,
   "metadata": {},
   "outputs": [
    {
     "name": "stderr",
     "output_type": "stream",
     "text": [
      "\n",
      "  0%|          | 0/3 [00:00<?, ?it/s]\u001b[A"
     ]
    },
    {
     "name": "stdout",
     "output_type": "stream",
     "text": [
      "使用デバイス: cpu\n",
      "Epoch 1/2\n",
      "---------\n"
     ]
    },
    {
     "name": "stderr",
     "output_type": "stream",
     "text": [
      "\n",
      " 33%|███▎      | 1/3 [00:14<00:28, 14.07s/it]\u001b[A\n",
      " 67%|██████▋   | 2/3 [00:28<00:14, 14.27s/it]\u001b[A\n",
      "100%|██████████| 3/3 [00:41<00:00, 13.94s/it]\u001b[A\n",
      "\n",
      "  0%|          | 0/13 [00:00<?, ?it/s]\u001b[A"
     ]
    },
    {
     "name": "stdout",
     "output_type": "stream",
     "text": [
      "val Loss: 1.5452 Acc: 0.3043\n",
      "Epoch 2/2\n",
      "---------\n"
     ]
    },
    {
     "name": "stderr",
     "output_type": "stream",
     "text": [
      "\n",
      "  8%|▊         | 1/13 [00:21<04:17, 21.42s/it]\u001b[A\n",
      " 15%|█▌        | 2/13 [00:44<04:01, 21.94s/it]\u001b[A\n",
      " 23%|██▎       | 3/13 [01:06<03:39, 21.92s/it]\u001b[A\n",
      " 31%|███       | 4/13 [01:28<03:16, 21.83s/it]\u001b[A\n",
      " 38%|███▊      | 5/13 [01:48<02:50, 21.30s/it]\u001b[A\n",
      " 46%|████▌     | 6/13 [02:08<02:26, 20.95s/it]\u001b[A\n",
      " 54%|█████▍    | 7/13 [02:28<02:04, 20.68s/it]\u001b[A\n",
      " 62%|██████▏   | 8/13 [02:48<01:42, 20.49s/it]\u001b[A\n",
      " 69%|██████▉   | 9/13 [03:08<01:21, 20.45s/it]\u001b[A\n",
      " 77%|███████▋  | 10/13 [03:28<01:01, 20.38s/it]\u001b[A\n",
      " 85%|████████▍ | 11/13 [03:49<00:40, 20.35s/it]\u001b[A\n",
      " 92%|█████████▏| 12/13 [04:09<00:20, 20.44s/it]\u001b[A\n",
      "100%|██████████| 13/13 [04:21<00:00, 20.09s/it]\u001b[A\n",
      "\n",
      "  0%|          | 0/3 [00:00<?, ?it/s]\u001b[A"
     ]
    },
    {
     "name": "stdout",
     "output_type": "stream",
     "text": [
      "train Loss: 1.5482 Acc: 0.2793\n"
     ]
    },
    {
     "name": "stderr",
     "output_type": "stream",
     "text": [
      "\n",
      " 33%|███▎      | 1/3 [00:13<00:26, 13.12s/it]\u001b[A\n",
      " 67%|██████▋   | 2/3 [00:26<00:13, 13.12s/it]\u001b[A\n",
      "100%|██████████| 3/3 [00:37<00:00, 12.57s/it]\u001b[A"
     ]
    },
    {
     "name": "stdout",
     "output_type": "stream",
     "text": [
      "val Loss: 1.4850 Acc: 0.3913\n"
     ]
    },
    {
     "name": "stderr",
     "output_type": "stream",
     "text": [
      "\n"
     ]
    }
   ],
   "source": [
    "num_epochs = 2\n",
    "train_losses, val_losses, train_accuracies, val_accuracies = train_model(net, dataloaders_dict, criterion, optimizer, num_epochs=num_epochs)"
   ]
  },
  {
   "cell_type": "code",
   "execution_count": 70,
   "metadata": {},
   "outputs": [
    {
     "data": {
      "image/png": "[encoded data removed]",
      "text/plain": [
       "<Figure size 1296x360 with 2 Axes>"
      ]
     },
     "metadata": {
      "needs_background": "light"
     },
     "output_type": "display_data"
    }
   ],
   "source": [
    "fig = plt.figure(figsize=(18, 5))\n",
    "\n",
    "plt.subplot(1, 2, 1)\n",
    "plt.plot(train_losses, marker='o')\n",
    "plt.plot(val_losses, marker='x')\n",
    "plt.xlabel('epoch')\n",
    "plt.ylabel('loss')\n",
    "plt.grid(True)\n",
    "\n",
    "plt.subplot(1, 2, 2)\n",
    "plt.plot(train_accuracies, marker='o')\n",
    "plt.plot(val_accuracies, marker='x')\n",
    "plt.xlabel('epoch')\n",
    "plt.ylabel('accuracy')\n",
    "plt.grid(True)\n"
   ]
  },
  {
   "cell_type": "markdown",
   "metadata": {},
   "source": [
    "## 学習したモデルを保存"
   ]
  },
  {
   "cell_type": "code",
   "execution_count": null,
   "metadata": {},
   "outputs": [],
   "source": [
    "save_path = './weights_keyaki_fine_tuning.pth'\n",
    "torch.save(net.state_dict(), save_path)"
   ]
  }
 ],
 "metadata": {
  "kernelspec": {
   "display_name": "Python 3",
   "language": "python",
   "name": "python3"
  },
  "language_info": {
   "codemirror_mode": {
    "name": "ipython",
    "version": 3
   },
   "file_extension": ".py",
   "mimetype": "text/x-python",
   "name": "python",
   "nbconvert_exporter": "python",
   "pygments_lexer": "ipython3",
   "version": "3.7.4"
  }
 },
 "nbformat": 4,
 "nbformat_minor": 2
}
